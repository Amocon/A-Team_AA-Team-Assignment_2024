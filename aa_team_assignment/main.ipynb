{
 "cells": [
  {
   "metadata": {
    "jupyter": {
     "is_executing": true
    },
    "ExecuteTime": {
     "start_time": "2024-11-01T17:21:48.789463Z"
    }
   },
   "cell_type": "code",
   "source": "!poetry shell && poetry install",
   "id": "dda3b1c2-d1e5-444c-80b5-072f610c8d51",
   "outputs": [
    {
     "name": "stdout",
     "output_type": "stream",
     "text": [
      "Spawning shell within \u001B[34m/Users/mo/Library/Caches/pypoetry/virtualenvs/aa-team-assignment-JrgwIgFo-py3.11\u001B[39m\r\n",
      "hes/pypoetry/virtualenvs/aa-team-assignment-JrgwIgFo-py3.11/bin/activate'\u001B[?2004l /Users/mo/Library/Cac \r\n",
      "\u001B[m\u001B[m\u001B[m\u001B[J(aa-team-assignment-py3.11) mo@MBP-von-Mohamed aa_team_assignment % \u001B[K\u001B[?2004h       "
     ]
    }
   ],
   "execution_count": null
  },
  {
   "metadata": {},
   "cell_type": "code",
   "outputs": [],
   "execution_count": null,
   "source": "",
   "id": "fc796ec2853faefa"
  }
 ],
 "metadata": {
  "kernelspec": {
   "display_name": "aa-team-assignment-py3.11",
   "language": "python",
   "name": "aa-team-assignment-py3.11"
  },
  "language_info": {
   "codemirror_mode": {
    "name": "ipython",
    "version": 3
   },
   "file_extension": ".py",
   "mimetype": "text/x-python",
   "name": "python",
   "nbconvert_exporter": "python",
   "pygments_lexer": "ipython3",
   "version": "3.11.8"
  }
 },
 "nbformat": 4,
 "nbformat_minor": 5
}
