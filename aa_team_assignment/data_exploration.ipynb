{
 "cells": [
  {
   "cell_type": "code",
   "execution_count": 1,
   "id": "initial_id",
   "metadata": {
    "ExecuteTime": {
     "end_time": "2024-11-04T22:36:02.423991Z",
     "start_time": "2024-11-04T22:36:01.993574Z"
    },
    "collapsed": true
   },
   "outputs": [],
   "source": [
    "import pandas as pd\n",
    "import ast\n",
    "import matplotlib.pyplot as plt"
   ]
  },
  {
   "cell_type": "code",
   "execution_count": 2,
   "id": "f585f0f49eaa3571",
   "metadata": {
    "ExecuteTime": {
     "end_time": "2024-11-04T22:36:02.671560Z",
     "start_time": "2024-11-04T22:36:02.426714Z"
    },
    "collapsed": false
   },
   "outputs": [],
   "source": [
    "df_charging_data = pd.read_csv('../charging_sessions.csv')\n",
    "df_weather = pd.read_csv('../weather_burbank_airport.csv')"
   ]
  },
  {
   "cell_type": "markdown",
   "id": "97b6984f",
   "metadata": {},
   "source": [
    "### General data overview "
   ]
  },
  {
   "cell_type": "markdown",
   "id": "bf67b43b",
   "metadata": {},
   "source": [
    "#### EV charging data"
   ]
  },
  {
   "cell_type": "code",
   "execution_count": 3,
   "id": "eb7f1f6426959201",
   "metadata": {
    "ExecuteTime": {
     "end_time": "2024-11-04T22:36:02.770355Z",
     "start_time": "2024-11-04T22:36:02.763386Z"
    },
    "collapsed": false
   },
   "outputs": [
    {
     "data": {
      "text/html": [
       "<div>\n",
       "<style scoped>\n",
       "    .dataframe tbody tr th:only-of-type {\n",
       "        vertical-align: middle;\n",
       "    }\n",
       "\n",
       "    .dataframe tbody tr th {\n",
       "        vertical-align: top;\n",
       "    }\n",
       "\n",
       "    .dataframe thead th {\n",
       "        text-align: right;\n",
       "    }\n",
       "</style>\n",
       "<table border=\"1\" class=\"dataframe\">\n",
       "  <thead>\n",
       "    <tr style=\"text-align: right;\">\n",
       "      <th></th>\n",
       "      <th>Unnamed: 0</th>\n",
       "      <th>id</th>\n",
       "      <th>connectionTime</th>\n",
       "      <th>disconnectTime</th>\n",
       "      <th>doneChargingTime</th>\n",
       "      <th>kWhDelivered</th>\n",
       "      <th>sessionID</th>\n",
       "      <th>siteID</th>\n",
       "      <th>spaceID</th>\n",
       "      <th>stationID</th>\n",
       "      <th>timezone</th>\n",
       "      <th>userID</th>\n",
       "      <th>userInputs</th>\n",
       "    </tr>\n",
       "  </thead>\n",
       "  <tbody>\n",
       "    <tr>\n",
       "      <th>0</th>\n",
       "      <td>0</td>\n",
       "      <td>5e23b149f9af8b5fe4b973cf</td>\n",
       "      <td>2020-01-02 13:08:54+00:00</td>\n",
       "      <td>2020-01-02 19:11:15+00:00</td>\n",
       "      <td>2020-01-02 17:31:35+00:00</td>\n",
       "      <td>25.016</td>\n",
       "      <td>1_1_179_810_2020-01-02 13:08:53.870034</td>\n",
       "      <td>1</td>\n",
       "      <td>AG-3F30</td>\n",
       "      <td>1-1-179-810</td>\n",
       "      <td>America/Los_Angeles</td>\n",
       "      <td>194.0</td>\n",
       "      <td>[{'WhPerMile': 250, 'kWhRequested': 25.0, 'mil...</td>\n",
       "    </tr>\n",
       "    <tr>\n",
       "      <th>1</th>\n",
       "      <td>1</td>\n",
       "      <td>5e23b149f9af8b5fe4b973d0</td>\n",
       "      <td>2020-01-02 13:36:50+00:00</td>\n",
       "      <td>2020-01-02 22:38:21+00:00</td>\n",
       "      <td>2020-01-02 20:18:05+00:00</td>\n",
       "      <td>33.097</td>\n",
       "      <td>1_1_193_825_2020-01-02 13:36:49.599853</td>\n",
       "      <td>1</td>\n",
       "      <td>AG-1F01</td>\n",
       "      <td>1-1-193-825</td>\n",
       "      <td>America/Los_Angeles</td>\n",
       "      <td>4275.0</td>\n",
       "      <td>[{'WhPerMile': 280, 'kWhRequested': 70.0, 'mil...</td>\n",
       "    </tr>\n",
       "    <tr>\n",
       "      <th>2</th>\n",
       "      <td>2</td>\n",
       "      <td>5e23b149f9af8b5fe4b973d1</td>\n",
       "      <td>2020-01-02 13:56:35+00:00</td>\n",
       "      <td>2020-01-03 00:39:22+00:00</td>\n",
       "      <td>2020-01-02 16:35:06+00:00</td>\n",
       "      <td>6.521</td>\n",
       "      <td>1_1_193_829_2020-01-02 13:56:35.214993</td>\n",
       "      <td>1</td>\n",
       "      <td>AG-1F03</td>\n",
       "      <td>1-1-193-829</td>\n",
       "      <td>America/Los_Angeles</td>\n",
       "      <td>344.0</td>\n",
       "      <td>[{'WhPerMile': 400, 'kWhRequested': 8.0, 'mile...</td>\n",
       "    </tr>\n",
       "    <tr>\n",
       "      <th>3</th>\n",
       "      <td>3</td>\n",
       "      <td>5e23b149f9af8b5fe4b973d2</td>\n",
       "      <td>2020-01-02 13:59:58+00:00</td>\n",
       "      <td>2020-01-02 16:38:39+00:00</td>\n",
       "      <td>2020-01-02 15:18:45+00:00</td>\n",
       "      <td>2.355</td>\n",
       "      <td>1_1_193_820_2020-01-02 13:59:58.309319</td>\n",
       "      <td>1</td>\n",
       "      <td>AG-1F04</td>\n",
       "      <td>1-1-193-820</td>\n",
       "      <td>America/Los_Angeles</td>\n",
       "      <td>1117.0</td>\n",
       "      <td>[{'WhPerMile': 400, 'kWhRequested': 8.0, 'mile...</td>\n",
       "    </tr>\n",
       "    <tr>\n",
       "      <th>4</th>\n",
       "      <td>4</td>\n",
       "      <td>5e23b149f9af8b5fe4b973d3</td>\n",
       "      <td>2020-01-02 14:00:01+00:00</td>\n",
       "      <td>2020-01-02 22:08:40+00:00</td>\n",
       "      <td>2020-01-02 18:17:30+00:00</td>\n",
       "      <td>13.375</td>\n",
       "      <td>1_1_193_819_2020-01-02 14:00:00.779967</td>\n",
       "      <td>1</td>\n",
       "      <td>AG-1F06</td>\n",
       "      <td>1-1-193-819</td>\n",
       "      <td>America/Los_Angeles</td>\n",
       "      <td>334.0</td>\n",
       "      <td>[{'WhPerMile': 400, 'kWhRequested': 16.0, 'mil...</td>\n",
       "    </tr>\n",
       "  </tbody>\n",
       "</table>\n",
       "</div>"
      ],
      "text/plain": [
       "   Unnamed: 0                        id             connectionTime  \\\n",
       "0           0  5e23b149f9af8b5fe4b973cf  2020-01-02 13:08:54+00:00   \n",
       "1           1  5e23b149f9af8b5fe4b973d0  2020-01-02 13:36:50+00:00   \n",
       "2           2  5e23b149f9af8b5fe4b973d1  2020-01-02 13:56:35+00:00   \n",
       "3           3  5e23b149f9af8b5fe4b973d2  2020-01-02 13:59:58+00:00   \n",
       "4           4  5e23b149f9af8b5fe4b973d3  2020-01-02 14:00:01+00:00   \n",
       "\n",
       "              disconnectTime           doneChargingTime  kWhDelivered  \\\n",
       "0  2020-01-02 19:11:15+00:00  2020-01-02 17:31:35+00:00        25.016   \n",
       "1  2020-01-02 22:38:21+00:00  2020-01-02 20:18:05+00:00        33.097   \n",
       "2  2020-01-03 00:39:22+00:00  2020-01-02 16:35:06+00:00         6.521   \n",
       "3  2020-01-02 16:38:39+00:00  2020-01-02 15:18:45+00:00         2.355   \n",
       "4  2020-01-02 22:08:40+00:00  2020-01-02 18:17:30+00:00        13.375   \n",
       "\n",
       "                                sessionID  siteID  spaceID    stationID  \\\n",
       "0  1_1_179_810_2020-01-02 13:08:53.870034       1  AG-3F30  1-1-179-810   \n",
       "1  1_1_193_825_2020-01-02 13:36:49.599853       1  AG-1F01  1-1-193-825   \n",
       "2  1_1_193_829_2020-01-02 13:56:35.214993       1  AG-1F03  1-1-193-829   \n",
       "3  1_1_193_820_2020-01-02 13:59:58.309319       1  AG-1F04  1-1-193-820   \n",
       "4  1_1_193_819_2020-01-02 14:00:00.779967       1  AG-1F06  1-1-193-819   \n",
       "\n",
       "              timezone  userID  \\\n",
       "0  America/Los_Angeles   194.0   \n",
       "1  America/Los_Angeles  4275.0   \n",
       "2  America/Los_Angeles   344.0   \n",
       "3  America/Los_Angeles  1117.0   \n",
       "4  America/Los_Angeles   334.0   \n",
       "\n",
       "                                          userInputs  \n",
       "0  [{'WhPerMile': 250, 'kWhRequested': 25.0, 'mil...  \n",
       "1  [{'WhPerMile': 280, 'kWhRequested': 70.0, 'mil...  \n",
       "2  [{'WhPerMile': 400, 'kWhRequested': 8.0, 'mile...  \n",
       "3  [{'WhPerMile': 400, 'kWhRequested': 8.0, 'mile...  \n",
       "4  [{'WhPerMile': 400, 'kWhRequested': 16.0, 'mil...  "
      ]
     },
     "execution_count": 3,
     "metadata": {},
     "output_type": "execute_result"
    }
   ],
   "source": [
    "df_charging_data.head()"
   ]
  },
  {
   "cell_type": "code",
   "execution_count": 4,
   "id": "e1ce50455a3f71d9",
   "metadata": {
    "ExecuteTime": {
     "end_time": "2024-11-04T22:36:02.802736Z",
     "start_time": "2024-11-04T22:36:02.792333Z"
    }
   },
   "outputs": [
    {
     "data": {
      "text/html": [
       "<div>\n",
       "<style scoped>\n",
       "    .dataframe tbody tr th:only-of-type {\n",
       "        vertical-align: middle;\n",
       "    }\n",
       "\n",
       "    .dataframe tbody tr th {\n",
       "        vertical-align: top;\n",
       "    }\n",
       "\n",
       "    .dataframe thead th {\n",
       "        text-align: right;\n",
       "    }\n",
       "</style>\n",
       "<table border=\"1\" class=\"dataframe\">\n",
       "  <thead>\n",
       "    <tr style=\"text-align: right;\">\n",
       "      <th></th>\n",
       "      <th>Unnamed: 0</th>\n",
       "      <th>kWhDelivered</th>\n",
       "      <th>siteID</th>\n",
       "      <th>userID</th>\n",
       "    </tr>\n",
       "  </thead>\n",
       "  <tbody>\n",
       "    <tr>\n",
       "      <th>count</th>\n",
       "      <td>66450.000000</td>\n",
       "      <td>66450.000000</td>\n",
       "      <td>66450.000000</td>\n",
       "      <td>49187.000000</td>\n",
       "    </tr>\n",
       "    <tr>\n",
       "      <th>mean</th>\n",
       "      <td>4726.102062</td>\n",
       "      <td>11.787916</td>\n",
       "      <td>1.472656</td>\n",
       "      <td>1800.494582</td>\n",
       "    </tr>\n",
       "    <tr>\n",
       "      <th>std</th>\n",
       "      <td>3568.025394</td>\n",
       "      <td>10.314789</td>\n",
       "      <td>0.499256</td>\n",
       "      <td>2617.548614</td>\n",
       "    </tr>\n",
       "    <tr>\n",
       "      <th>min</th>\n",
       "      <td>0.000000</td>\n",
       "      <td>0.501000</td>\n",
       "      <td>1.000000</td>\n",
       "      <td>1.000000</td>\n",
       "    </tr>\n",
       "    <tr>\n",
       "      <th>25%</th>\n",
       "      <td>1845.000000</td>\n",
       "      <td>5.097000</td>\n",
       "      <td>1.000000</td>\n",
       "      <td>431.000000</td>\n",
       "    </tr>\n",
       "    <tr>\n",
       "      <th>50%</th>\n",
       "      <td>3960.000000</td>\n",
       "      <td>9.140000</td>\n",
       "      <td>1.000000</td>\n",
       "      <td>818.000000</td>\n",
       "    </tr>\n",
       "    <tr>\n",
       "      <th>75%</th>\n",
       "      <td>7027.000000</td>\n",
       "      <td>14.183000</td>\n",
       "      <td>2.000000</td>\n",
       "      <td>1805.000000</td>\n",
       "    </tr>\n",
       "    <tr>\n",
       "      <th>max</th>\n",
       "      <td>15291.000000</td>\n",
       "      <td>108.797242</td>\n",
       "      <td>2.000000</td>\n",
       "      <td>19923.000000</td>\n",
       "    </tr>\n",
       "  </tbody>\n",
       "</table>\n",
       "</div>"
      ],
      "text/plain": [
       "         Unnamed: 0  kWhDelivered        siteID        userID\n",
       "count  66450.000000  66450.000000  66450.000000  49187.000000\n",
       "mean    4726.102062     11.787916      1.472656   1800.494582\n",
       "std     3568.025394     10.314789      0.499256   2617.548614\n",
       "min        0.000000      0.501000      1.000000      1.000000\n",
       "25%     1845.000000      5.097000      1.000000    431.000000\n",
       "50%     3960.000000      9.140000      1.000000    818.000000\n",
       "75%     7027.000000     14.183000      2.000000   1805.000000\n",
       "max    15291.000000    108.797242      2.000000  19923.000000"
      ]
     },
     "execution_count": 4,
     "metadata": {},
     "output_type": "execute_result"
    }
   ],
   "source": [
    "df_charging_data.describe()"
   ]
  },
  {
   "cell_type": "code",
   "execution_count": 5,
   "id": "4af359bff8b84404",
   "metadata": {
    "ExecuteTime": {
     "end_time": "2024-11-04T22:36:02.848139Z",
     "start_time": "2024-11-04T22:36:02.832672Z"
    },
    "collapsed": false
   },
   "outputs": [
    {
     "name": "stdout",
     "output_type": "stream",
     "text": [
      "<class 'pandas.core.frame.DataFrame'>\n",
      "RangeIndex: 66450 entries, 0 to 66449\n",
      "Data columns (total 13 columns):\n",
      " #   Column            Non-Null Count  Dtype  \n",
      "---  ------            --------------  -----  \n",
      " 0   Unnamed: 0        66450 non-null  int64  \n",
      " 1   id                66450 non-null  object \n",
      " 2   connectionTime    66450 non-null  object \n",
      " 3   disconnectTime    66450 non-null  object \n",
      " 4   doneChargingTime  62362 non-null  object \n",
      " 5   kWhDelivered      66450 non-null  float64\n",
      " 6   sessionID         66450 non-null  object \n",
      " 7   siteID            66450 non-null  int64  \n",
      " 8   spaceID           66450 non-null  object \n",
      " 9   stationID         66450 non-null  object \n",
      " 10  timezone          66450 non-null  object \n",
      " 11  userID            49187 non-null  float64\n",
      " 12  userInputs        49187 non-null  object \n",
      "dtypes: float64(2), int64(2), object(9)\n",
      "memory usage: 6.6+ MB\n"
     ]
    }
   ],
   "source": [
    "df_charging_data.info()"
   ]
  },
  {
   "cell_type": "code",
   "execution_count": 6,
   "id": "23627cdf1b655f7",
   "metadata": {
    "ExecuteTime": {
     "end_time": "2024-11-04T22:36:02.912555Z",
     "start_time": "2024-11-04T22:36:02.898387Z"
    },
    "collapsed": false
   },
   "outputs": [
    {
     "data": {
      "text/plain": [
       "Unnamed: 0              0\n",
       "id                      0\n",
       "connectionTime          0\n",
       "disconnectTime          0\n",
       "doneChargingTime     4088\n",
       "kWhDelivered            0\n",
       "sessionID               0\n",
       "siteID                  0\n",
       "spaceID                 0\n",
       "stationID               0\n",
       "timezone                0\n",
       "userID              17263\n",
       "userInputs          17263\n",
       "dtype: int64"
      ]
     },
     "execution_count": 6,
     "metadata": {},
     "output_type": "execute_result"
    }
   ],
   "source": [
    "df_charging_data.isnull().sum()"
   ]
  },
  {
   "cell_type": "markdown",
   "id": "437e14a4",
   "metadata": {},
   "source": [
    "#### Weather data"
   ]
  },
  {
   "cell_type": "code",
   "execution_count": 7,
   "id": "ce8ab80c",
   "metadata": {
    "ExecuteTime": {
     "end_time": "2024-11-04T22:36:02.960735Z",
     "start_time": "2024-11-04T22:36:02.956503Z"
    }
   },
   "outputs": [
    {
     "data": {
      "text/html": [
       "<div>\n",
       "<style scoped>\n",
       "    .dataframe tbody tr th:only-of-type {\n",
       "        vertical-align: middle;\n",
       "    }\n",
       "\n",
       "    .dataframe tbody tr th {\n",
       "        vertical-align: top;\n",
       "    }\n",
       "\n",
       "    .dataframe thead th {\n",
       "        text-align: right;\n",
       "    }\n",
       "</style>\n",
       "<table border=\"1\" class=\"dataframe\">\n",
       "  <thead>\n",
       "    <tr style=\"text-align: right;\">\n",
       "      <th></th>\n",
       "      <th>city</th>\n",
       "      <th>timestamp</th>\n",
       "      <th>temperature</th>\n",
       "      <th>cloud_cover</th>\n",
       "      <th>cloud_cover_description</th>\n",
       "      <th>pressure</th>\n",
       "      <th>windspeed</th>\n",
       "      <th>precipitation</th>\n",
       "      <th>felt_temperature</th>\n",
       "    </tr>\n",
       "  </thead>\n",
       "  <tbody>\n",
       "    <tr>\n",
       "      <th>0</th>\n",
       "      <td>Burbank</td>\n",
       "      <td>2018-01-01 08:53:00</td>\n",
       "      <td>9.0</td>\n",
       "      <td>33.0</td>\n",
       "      <td>Fair</td>\n",
       "      <td>991.75</td>\n",
       "      <td>9.0</td>\n",
       "      <td>0.0</td>\n",
       "      <td>8.0</td>\n",
       "    </tr>\n",
       "    <tr>\n",
       "      <th>1</th>\n",
       "      <td>Burbank</td>\n",
       "      <td>2018-01-01 09:53:00</td>\n",
       "      <td>9.0</td>\n",
       "      <td>33.0</td>\n",
       "      <td>Fair</td>\n",
       "      <td>992.08</td>\n",
       "      <td>0.0</td>\n",
       "      <td>0.0</td>\n",
       "      <td>9.0</td>\n",
       "    </tr>\n",
       "    <tr>\n",
       "      <th>2</th>\n",
       "      <td>Burbank</td>\n",
       "      <td>2018-01-01 10:53:00</td>\n",
       "      <td>9.0</td>\n",
       "      <td>21.0</td>\n",
       "      <td>Haze</td>\n",
       "      <td>992.08</td>\n",
       "      <td>0.0</td>\n",
       "      <td>0.0</td>\n",
       "      <td>9.0</td>\n",
       "    </tr>\n",
       "    <tr>\n",
       "      <th>3</th>\n",
       "      <td>Burbank</td>\n",
       "      <td>2018-01-01 11:53:00</td>\n",
       "      <td>9.0</td>\n",
       "      <td>29.0</td>\n",
       "      <td>Partly Cloudy</td>\n",
       "      <td>992.08</td>\n",
       "      <td>0.0</td>\n",
       "      <td>0.0</td>\n",
       "      <td>9.0</td>\n",
       "    </tr>\n",
       "    <tr>\n",
       "      <th>4</th>\n",
       "      <td>Burbank</td>\n",
       "      <td>2018-01-01 12:53:00</td>\n",
       "      <td>8.0</td>\n",
       "      <td>33.0</td>\n",
       "      <td>Fair</td>\n",
       "      <td>992.08</td>\n",
       "      <td>0.0</td>\n",
       "      <td>0.0</td>\n",
       "      <td>8.0</td>\n",
       "    </tr>\n",
       "  </tbody>\n",
       "</table>\n",
       "</div>"
      ],
      "text/plain": [
       "      city            timestamp  temperature  cloud_cover  \\\n",
       "0  Burbank  2018-01-01 08:53:00          9.0         33.0   \n",
       "1  Burbank  2018-01-01 09:53:00          9.0         33.0   \n",
       "2  Burbank  2018-01-01 10:53:00          9.0         21.0   \n",
       "3  Burbank  2018-01-01 11:53:00          9.0         29.0   \n",
       "4  Burbank  2018-01-01 12:53:00          8.0         33.0   \n",
       "\n",
       "  cloud_cover_description  pressure  windspeed  precipitation  \\\n",
       "0                    Fair    991.75        9.0            0.0   \n",
       "1                    Fair    992.08        0.0            0.0   \n",
       "2                    Haze    992.08        0.0            0.0   \n",
       "3           Partly Cloudy    992.08        0.0            0.0   \n",
       "4                    Fair    992.08        0.0            0.0   \n",
       "\n",
       "   felt_temperature  \n",
       "0               8.0  \n",
       "1               9.0  \n",
       "2               9.0  \n",
       "3               9.0  \n",
       "4               8.0  "
      ]
     },
     "execution_count": 7,
     "metadata": {},
     "output_type": "execute_result"
    }
   ],
   "source": [
    "df_weather.head()"
   ]
  },
  {
   "cell_type": "code",
   "execution_count": 8,
   "id": "f2a1040f",
   "metadata": {
    "ExecuteTime": {
     "end_time": "2024-11-04T22:36:03.003758Z",
     "start_time": "2024-11-04T22:36:02.998689Z"
    }
   },
   "outputs": [
    {
     "name": "stdout",
     "output_type": "stream",
     "text": [
      "<class 'pandas.core.frame.DataFrame'>\n",
      "RangeIndex: 29244 entries, 0 to 29243\n",
      "Data columns (total 9 columns):\n",
      " #   Column                   Non-Null Count  Dtype  \n",
      "---  ------                   --------------  -----  \n",
      " 0   city                     29244 non-null  object \n",
      " 1   timestamp                29244 non-null  object \n",
      " 2   temperature              29219 non-null  float64\n",
      " 3   cloud_cover              29224 non-null  float64\n",
      " 4   cloud_cover_description  29224 non-null  object \n",
      " 5   pressure                 29236 non-null  float64\n",
      " 6   windspeed                29158 non-null  float64\n",
      " 7   precipitation            29244 non-null  float64\n",
      " 8   felt_temperature         29218 non-null  float64\n",
      "dtypes: float64(6), object(3)\n",
      "memory usage: 2.0+ MB\n"
     ]
    }
   ],
   "source": [
    "df_weather.info()"
   ]
  },
  {
   "cell_type": "markdown",
   "id": "f9a6a9db",
   "metadata": {},
   "source": [
    "### Data preparation"
   ]
  },
  {
   "cell_type": "code",
   "execution_count": 3,
   "id": "72820c86971dff2e",
   "metadata": {
    "ExecuteTime": {
     "end_time": "2024-11-04T22:36:04.276629Z",
     "start_time": "2024-11-04T22:36:03.051862Z"
    },
    "collapsed": false
   },
   "outputs": [],
   "source": [
    "def unpack_nested_column(value):\n",
    "    if pd.isnull(value):\n",
    "        # Return an empty dict for null values\n",
    "        return {}  \n",
    "    else:\n",
    "        # Parse string as a Python literal\n",
    "        return ast.literal_eval(value)  \n",
    "\n",
    "# Unpack nested userInputs column\n",
    "nested_data = df_charging_data['userInputs'].apply(unpack_nested_column)\n",
    "\n",
    "# Create df for data in userInputs column\n",
    "nested_df = pd.json_normalize(nested_data.apply(lambda x: x[0] if x else {}))"
   ]
  },
  {
   "cell_type": "code",
   "execution_count": 4,
   "id": "c4b8560d",
   "metadata": {
    "ExecuteTime": {
     "end_time": "2024-11-04T22:36:04.314902Z",
     "start_time": "2024-11-04T22:36:04.311022Z"
    }
   },
   "outputs": [
    {
     "data": {
      "text/html": [
       "<div>\n",
       "<style scoped>\n",
       "    .dataframe tbody tr th:only-of-type {\n",
       "        vertical-align: middle;\n",
       "    }\n",
       "\n",
       "    .dataframe tbody tr th {\n",
       "        vertical-align: top;\n",
       "    }\n",
       "\n",
       "    .dataframe thead th {\n",
       "        text-align: right;\n",
       "    }\n",
       "</style>\n",
       "<table border=\"1\" class=\"dataframe\">\n",
       "  <thead>\n",
       "    <tr style=\"text-align: right;\">\n",
       "      <th></th>\n",
       "      <th>WhPerMile</th>\n",
       "      <th>kWhRequested</th>\n",
       "      <th>milesRequested</th>\n",
       "      <th>minutesAvailable</th>\n",
       "      <th>modifiedAt</th>\n",
       "      <th>paymentRequired</th>\n",
       "      <th>requestedDeparture</th>\n",
       "      <th>userID</th>\n",
       "    </tr>\n",
       "  </thead>\n",
       "  <tbody>\n",
       "    <tr>\n",
       "      <th>0</th>\n",
       "      <td>250.0</td>\n",
       "      <td>25.0</td>\n",
       "      <td>100.0</td>\n",
       "      <td>463.0</td>\n",
       "      <td>Thu, 02 Jan 2020 13:09:39 GMT</td>\n",
       "      <td>True</td>\n",
       "      <td>Thu, 02 Jan 2020 20:51:54 GMT</td>\n",
       "      <td>194.0</td>\n",
       "    </tr>\n",
       "    <tr>\n",
       "      <th>1</th>\n",
       "      <td>280.0</td>\n",
       "      <td>70.0</td>\n",
       "      <td>250.0</td>\n",
       "      <td>595.0</td>\n",
       "      <td>Thu, 02 Jan 2020 13:37:11 GMT</td>\n",
       "      <td>True</td>\n",
       "      <td>Thu, 02 Jan 2020 23:31:50 GMT</td>\n",
       "      <td>4275.0</td>\n",
       "    </tr>\n",
       "    <tr>\n",
       "      <th>2</th>\n",
       "      <td>400.0</td>\n",
       "      <td>8.0</td>\n",
       "      <td>20.0</td>\n",
       "      <td>60.0</td>\n",
       "      <td>Thu, 02 Jan 2020 13:57:17 GMT</td>\n",
       "      <td>True</td>\n",
       "      <td>Thu, 02 Jan 2020 14:56:35 GMT</td>\n",
       "      <td>344.0</td>\n",
       "    </tr>\n",
       "    <tr>\n",
       "      <th>3</th>\n",
       "      <td>400.0</td>\n",
       "      <td>8.0</td>\n",
       "      <td>20.0</td>\n",
       "      <td>65.0</td>\n",
       "      <td>Thu, 02 Jan 2020 14:00:03 GMT</td>\n",
       "      <td>True</td>\n",
       "      <td>Thu, 02 Jan 2020 15:04:58 GMT</td>\n",
       "      <td>1117.0</td>\n",
       "    </tr>\n",
       "    <tr>\n",
       "      <th>4</th>\n",
       "      <td>400.0</td>\n",
       "      <td>16.0</td>\n",
       "      <td>40.0</td>\n",
       "      <td>504.0</td>\n",
       "      <td>Thu, 02 Jan 2020 14:00:13 GMT</td>\n",
       "      <td>True</td>\n",
       "      <td>Thu, 02 Jan 2020 22:24:01 GMT</td>\n",
       "      <td>334.0</td>\n",
       "    </tr>\n",
       "  </tbody>\n",
       "</table>\n",
       "</div>"
      ],
      "text/plain": [
       "   WhPerMile  kWhRequested  milesRequested  minutesAvailable  \\\n",
       "0      250.0          25.0           100.0             463.0   \n",
       "1      280.0          70.0           250.0             595.0   \n",
       "2      400.0           8.0            20.0              60.0   \n",
       "3      400.0           8.0            20.0              65.0   \n",
       "4      400.0          16.0            40.0             504.0   \n",
       "\n",
       "                      modifiedAt paymentRequired  \\\n",
       "0  Thu, 02 Jan 2020 13:09:39 GMT            True   \n",
       "1  Thu, 02 Jan 2020 13:37:11 GMT            True   \n",
       "2  Thu, 02 Jan 2020 13:57:17 GMT            True   \n",
       "3  Thu, 02 Jan 2020 14:00:03 GMT            True   \n",
       "4  Thu, 02 Jan 2020 14:00:13 GMT            True   \n",
       "\n",
       "              requestedDeparture  userID  \n",
       "0  Thu, 02 Jan 2020 20:51:54 GMT   194.0  \n",
       "1  Thu, 02 Jan 2020 23:31:50 GMT  4275.0  \n",
       "2  Thu, 02 Jan 2020 14:56:35 GMT   344.0  \n",
       "3  Thu, 02 Jan 2020 15:04:58 GMT  1117.0  \n",
       "4  Thu, 02 Jan 2020 22:24:01 GMT   334.0  "
      ]
     },
     "execution_count": 4,
     "metadata": {},
     "output_type": "execute_result"
    }
   ],
   "source": [
    "nested_df.head()"
   ]
  },
  {
   "cell_type": "code",
   "execution_count": 5,
   "id": "699b9f5a",
   "metadata": {
    "ExecuteTime": {
     "end_time": "2024-11-04T22:36:04.350141Z",
     "start_time": "2024-11-04T22:36:04.337385Z"
    }
   },
   "outputs": [],
   "source": [
    "# Concatenate dataframes and drop duplicate/unneeded columns\n",
    "\n",
    "full_charging_df = pd.concat([df_charging_data.drop(columns=['userInputs', 'Unnamed: 0']), \n",
    "                     nested_df.drop(columns=['userID'])], axis=1)"
   ]
  },
  {
   "cell_type": "markdown",
   "id": "d82482f0357e1983",
   "metadata": {},
   "source": [
    "Transform the ...Time columns datatype"
   ]
  },
  {
   "cell_type": "code",
   "execution_count": 6,
   "id": "d89f5b066b9e39be",
   "metadata": {
    "ExecuteTime": {
     "end_time": "2024-11-04T22:36:04.460683Z",
     "start_time": "2024-11-04T22:36:04.366920Z"
    }
   },
   "outputs": [],
   "source": [
    "time_columns = [\"doneChargingTime\", \"connectionTime\", \"disconnectTime\", \"modifiedAt\", \"requestedDeparture\"]\n",
    "# Transform to pandas datetime datatype\n",
    "full_charging_df[time_columns] = full_charging_df[time_columns].apply(\n",
    "    lambda x: pd.to_datetime(x, utc=True))"
   ]
  },
  {
   "cell_type": "code",
   "execution_count": 7,
   "id": "d73d7a4e",
   "metadata": {},
   "outputs": [],
   "source": [
    "# Transform the timestamps from UTC to the correct timezone\n",
    "full_charging_df[time_columns] = full_charging_df[time_columns].apply(\n",
    "    lambda col: col.dt.tz_convert(\"America/Los_Angeles\"))"
   ]
  },
  {
   "cell_type": "code",
   "execution_count": 8,
   "id": "f9b7703b",
   "metadata": {},
   "outputs": [
    {
     "data": {
      "text/plain": [
       "0       2020-01-02 05:08:54-08:00\n",
       "1       2020-01-02 05:36:50-08:00\n",
       "2       2020-01-02 05:56:35-08:00\n",
       "3       2020-01-02 05:59:58-08:00\n",
       "4       2020-01-02 06:00:01-08:00\n",
       "                   ...           \n",
       "66445   2019-07-31 11:08:04-07:00\n",
       "66446   2019-07-31 11:40:41-07:00\n",
       "66447   2019-07-31 12:04:40-07:00\n",
       "66448   2019-07-31 12:19:47-07:00\n",
       "66449   2019-07-31 12:21:47-07:00\n",
       "Name: connectionTime, Length: 66450, dtype: datetime64[ns, America/Los_Angeles]"
      ]
     },
     "execution_count": 8,
     "metadata": {},
     "output_type": "execute_result"
    }
   ],
   "source": [
    "# Check new timestamps\n",
    "full_charging_df[\"connectionTime\"]\n",
    "# -> -08:00 and -07:00 are the offsets from UTC time (-8 hours in winter, -7 in summer)"
   ]
  },
  {
   "cell_type": "code",
   "execution_count": 9,
   "id": "ef2c18d3",
   "metadata": {},
   "outputs": [
    {
     "data": {
      "text/plain": [
       "count                        66450\n",
       "mean     0 days 06:17:34.578209179\n",
       "std      0 days 04:51:41.391314114\n",
       "min                0 days 00:02:04\n",
       "25%         0 days 02:51:57.750000\n",
       "50%                0 days 06:11:44\n",
       "75%         0 days 09:13:31.500000\n",
       "max               10 days 05:16:09\n",
       "Name: connectionTimespan, dtype: object"
      ]
     },
     "execution_count": 9,
     "metadata": {},
     "output_type": "execute_result"
    }
   ],
   "source": [
    "# Calculate the timespan in which the car was connected to the station\n",
    "full_charging_df[\"connectionTimespan\"] = full_charging_df[\"disconnectTime\"] - full_charging_df[\"connectionTime\"]\n",
    "full_charging_df[\"connectionTimespan\"].describe()"
   ]
  },
  {
   "cell_type": "code",
   "execution_count": 51,
   "id": "bf486b3e17c4486",
   "metadata": {
    "ExecuteTime": {
     "end_time": "2024-11-04T22:36:04.510490Z",
     "start_time": "2024-11-04T22:36:04.507926Z"
    }
   },
   "outputs": [
    {
     "data": {
      "text/plain": [
       "0"
      ]
     },
     "execution_count": 51,
     "metadata": {},
     "output_type": "execute_result"
    }
   ],
   "source": [
    "# Filter rows where 'connectionTimespan' has negative or zero values\n",
    "# A zero or negative timespan may indicate incorrect or missing data\n",
    "negative_timespan = full_charging_df[full_charging_df[\"connectionTimespan\"] <= pd.Timedelta(0)]\n",
    "len(negative_timespan)"
   ]
  },
  {
   "cell_type": "markdown",
   "id": "775d424751aa1f14",
   "metadata": {},
   "source": [
    "Aggregate time data / dose this count as feature engineering?"
   ]
  },
  {
   "cell_type": "code",
   "execution_count": 11,
   "id": "6b51f42211950f9d",
   "metadata": {
    "ExecuteTime": {
     "end_time": "2024-11-04T22:36:04.539759Z",
     "start_time": "2024-11-04T22:36:04.529108Z"
    }
   },
   "outputs": [],
   "source": [
    "full_charging_df['connectionMonth'] = full_charging_df['connectionTime'].dt.month\n",
    "full_charging_df['connectionWeekdayName'] = full_charging_df['connectionTime'].dt.day_name()\n",
    "full_charging_df['isWeekend'] = full_charging_df['connectionTime'].dt.weekday >= 5"
   ]
  },
  {
   "cell_type": "code",
   "execution_count": 12,
   "id": "b862dc4f65eb89c4",
   "metadata": {
    "ExecuteTime": {
     "end_time": "2024-11-04T22:36:04.641342Z",
     "start_time": "2024-11-04T22:36:04.544792Z"
    }
   },
   "outputs": [
    {
     "data": {
      "text/plain": [
       "<Axes: >"
      ]
     },
     "execution_count": 12,
     "metadata": {},
     "output_type": "execute_result"
    },
    {
     "data": {
      "image/png": "[encoded data removed]",
      "text/plain": [
       "<Figure size 640x480 with 1 Axes>"
      ]
     },
     "metadata": {},
     "output_type": "display_data"
    }
   ],
   "source": [
    "# Plot a histogram of 'connectionMonth' to visualize charging frequency by month\n",
    "# This can reveal seasonal trends, e.g., higher charges in summer months compared to winter months\n",
    "# Note: More charges in summer does not necessarily mean more kilowatt usage\n",
    "full_charging_df['connectionMonth'].hist(bins=12)"
   ]
  },
  {
   "cell_type": "code",
   "execution_count": 13,
   "id": "c5697e1d78cd70a6",
   "metadata": {
    "ExecuteTime": {
     "end_time": "2024-11-04T22:36:04.754930Z",
     "start_time": "2024-11-04T22:36:04.696130Z"
    }
   },
   "outputs": [
    {
     "data": {
      "text/plain": [
       "<Axes: >"
      ]
     },
     "execution_count": 13,
     "metadata": {},
     "output_type": "execute_result"
    },
    {
     "data": {
      "image/png": "[encoded data removed]",
      "text/plain": [
       "<Figure size 640x480 with 1 Axes>"
      ]
     },
     "metadata": {},
     "output_type": "display_data"
    }
   ],
   "source": [
    "# Plot a histogram of 'connectionMonth' to visualize charging frequency by month\n",
    "# This can reveal weekly trends, e.g., more charges during the week than in the weekend\n",
    "full_charging_df['connectionWeekdayName'].hist(bins=7)"
   ]
  },
  {
   "cell_type": "code",
   "execution_count": 14,
   "id": "f4bf34c688e6a366",
   "metadata": {
    "ExecuteTime": {
     "end_time": "2024-11-04T22:36:04.824248Z",
     "start_time": "2024-11-04T22:36:04.781974Z"
    }
   },
   "outputs": [
    {
     "data": {
      "image/png": "[encoded data removed]",
      "text/plain": [
       "<Figure size 600x400 with 1 Axes>"
      ]
     },
     "metadata": {},
     "output_type": "display_data"
    }
   ],
   "source": [
    "# Count values of True and False in the isWeekend column\n",
    "weekend_counts = full_charging_df['isWeekend'].value_counts()\n",
    "\n",
    "# Plot as a bar plot\n",
    "plt.figure(figsize=(6, 4))\n",
    "weekend_counts.plot(kind='bar', color=['blue', 'red'])\n",
    "plt.xticks(ticks=[0, 1], labels=['False', 'True'], rotation=0)\n",
    "plt.xlabel(\"Is Weekend\")\n",
    "plt.ylabel(\"Count\")\n",
    "plt.title(\"Distribution of Weekend vs. Weekday\")\n",
    "plt.show()"
   ]
  },
  {
   "cell_type": "code",
   "execution_count": 15,
   "id": "2978f5cb8f48207b",
   "metadata": {
    "ExecuteTime": {
     "end_time": "2024-11-04T22:36:04.969093Z",
     "start_time": "2024-11-04T22:36:04.967954Z"
    }
   },
   "outputs": [
    {
     "data": {
      "text/html": [
       "<div>\n",
       "<style scoped>\n",
       "    .dataframe tbody tr th:only-of-type {\n",
       "        vertical-align: middle;\n",
       "    }\n",
       "\n",
       "    .dataframe tbody tr th {\n",
       "        vertical-align: top;\n",
       "    }\n",
       "\n",
       "    .dataframe thead th {\n",
       "        text-align: right;\n",
       "    }\n",
       "</style>\n",
       "<table border=\"1\" class=\"dataframe\">\n",
       "  <thead>\n",
       "    <tr style=\"text-align: right;\">\n",
       "      <th></th>\n",
       "      <th>id</th>\n",
       "      <th>connectionTime</th>\n",
       "      <th>disconnectTime</th>\n",
       "      <th>doneChargingTime</th>\n",
       "      <th>kWhDelivered</th>\n",
       "      <th>sessionID</th>\n",
       "      <th>siteID</th>\n",
       "      <th>spaceID</th>\n",
       "      <th>stationID</th>\n",
       "      <th>timezone</th>\n",
       "      <th>...</th>\n",
       "      <th>kWhRequested</th>\n",
       "      <th>milesRequested</th>\n",
       "      <th>minutesAvailable</th>\n",
       "      <th>modifiedAt</th>\n",
       "      <th>paymentRequired</th>\n",
       "      <th>requestedDeparture</th>\n",
       "      <th>connectionTimespan</th>\n",
       "      <th>connectionMonth</th>\n",
       "      <th>connectionWeekdayName</th>\n",
       "      <th>isWeekend</th>\n",
       "    </tr>\n",
       "  </thead>\n",
       "  <tbody>\n",
       "    <tr>\n",
       "      <th>0</th>\n",
       "      <td>5e23b149f9af8b5fe4b973cf</td>\n",
       "      <td>2020-01-02 05:08:54-08:00</td>\n",
       "      <td>2020-01-02 11:11:15-08:00</td>\n",
       "      <td>2020-01-02 09:31:35-08:00</td>\n",
       "      <td>25.016</td>\n",
       "      <td>1_1_179_810_2020-01-02 13:08:53.870034</td>\n",
       "      <td>1</td>\n",
       "      <td>AG-3F30</td>\n",
       "      <td>1-1-179-810</td>\n",
       "      <td>America/Los_Angeles</td>\n",
       "      <td>...</td>\n",
       "      <td>25.0</td>\n",
       "      <td>100.0</td>\n",
       "      <td>463.0</td>\n",
       "      <td>2020-01-02 05:09:39-08:00</td>\n",
       "      <td>True</td>\n",
       "      <td>2020-01-02 12:51:54-08:00</td>\n",
       "      <td>0 days 06:02:21</td>\n",
       "      <td>1</td>\n",
       "      <td>Thursday</td>\n",
       "      <td>False</td>\n",
       "    </tr>\n",
       "    <tr>\n",
       "      <th>1</th>\n",
       "      <td>5e23b149f9af8b5fe4b973d0</td>\n",
       "      <td>2020-01-02 05:36:50-08:00</td>\n",
       "      <td>2020-01-02 14:38:21-08:00</td>\n",
       "      <td>2020-01-02 12:18:05-08:00</td>\n",
       "      <td>33.097</td>\n",
       "      <td>1_1_193_825_2020-01-02 13:36:49.599853</td>\n",
       "      <td>1</td>\n",
       "      <td>AG-1F01</td>\n",
       "      <td>1-1-193-825</td>\n",
       "      <td>America/Los_Angeles</td>\n",
       "      <td>...</td>\n",
       "      <td>70.0</td>\n",
       "      <td>250.0</td>\n",
       "      <td>595.0</td>\n",
       "      <td>2020-01-02 05:37:11-08:00</td>\n",
       "      <td>True</td>\n",
       "      <td>2020-01-02 15:31:50-08:00</td>\n",
       "      <td>0 days 09:01:31</td>\n",
       "      <td>1</td>\n",
       "      <td>Thursday</td>\n",
       "      <td>False</td>\n",
       "    </tr>\n",
       "    <tr>\n",
       "      <th>2</th>\n",
       "      <td>5e23b149f9af8b5fe4b973d1</td>\n",
       "      <td>2020-01-02 05:56:35-08:00</td>\n",
       "      <td>2020-01-02 16:39:22-08:00</td>\n",
       "      <td>2020-01-02 08:35:06-08:00</td>\n",
       "      <td>6.521</td>\n",
       "      <td>1_1_193_829_2020-01-02 13:56:35.214993</td>\n",
       "      <td>1</td>\n",
       "      <td>AG-1F03</td>\n",
       "      <td>1-1-193-829</td>\n",
       "      <td>America/Los_Angeles</td>\n",
       "      <td>...</td>\n",
       "      <td>8.0</td>\n",
       "      <td>20.0</td>\n",
       "      <td>60.0</td>\n",
       "      <td>2020-01-02 05:57:17-08:00</td>\n",
       "      <td>True</td>\n",
       "      <td>2020-01-02 06:56:35-08:00</td>\n",
       "      <td>0 days 10:42:47</td>\n",
       "      <td>1</td>\n",
       "      <td>Thursday</td>\n",
       "      <td>False</td>\n",
       "    </tr>\n",
       "    <tr>\n",
       "      <th>3</th>\n",
       "      <td>5e23b149f9af8b5fe4b973d2</td>\n",
       "      <td>2020-01-02 05:59:58-08:00</td>\n",
       "      <td>2020-01-02 08:38:39-08:00</td>\n",
       "      <td>2020-01-02 07:18:45-08:00</td>\n",
       "      <td>2.355</td>\n",
       "      <td>1_1_193_820_2020-01-02 13:59:58.309319</td>\n",
       "      <td>1</td>\n",
       "      <td>AG-1F04</td>\n",
       "      <td>1-1-193-820</td>\n",
       "      <td>America/Los_Angeles</td>\n",
       "      <td>...</td>\n",
       "      <td>8.0</td>\n",
       "      <td>20.0</td>\n",
       "      <td>65.0</td>\n",
       "      <td>2020-01-02 06:00:03-08:00</td>\n",
       "      <td>True</td>\n",
       "      <td>2020-01-02 07:04:58-08:00</td>\n",
       "      <td>0 days 02:38:41</td>\n",
       "      <td>1</td>\n",
       "      <td>Thursday</td>\n",
       "      <td>False</td>\n",
       "    </tr>\n",
       "    <tr>\n",
       "      <th>4</th>\n",
       "      <td>5e23b149f9af8b5fe4b973d3</td>\n",
       "      <td>2020-01-02 06:00:01-08:00</td>\n",
       "      <td>2020-01-02 14:08:40-08:00</td>\n",
       "      <td>2020-01-02 10:17:30-08:00</td>\n",
       "      <td>13.375</td>\n",
       "      <td>1_1_193_819_2020-01-02 14:00:00.779967</td>\n",
       "      <td>1</td>\n",
       "      <td>AG-1F06</td>\n",
       "      <td>1-1-193-819</td>\n",
       "      <td>America/Los_Angeles</td>\n",
       "      <td>...</td>\n",
       "      <td>16.0</td>\n",
       "      <td>40.0</td>\n",
       "      <td>504.0</td>\n",
       "      <td>2020-01-02 06:00:13-08:00</td>\n",
       "      <td>True</td>\n",
       "      <td>2020-01-02 14:24:01-08:00</td>\n",
       "      <td>0 days 08:08:39</td>\n",
       "      <td>1</td>\n",
       "      <td>Thursday</td>\n",
       "      <td>False</td>\n",
       "    </tr>\n",
       "  </tbody>\n",
       "</table>\n",
       "<p>5 rows × 22 columns</p>\n",
       "</div>"
      ],
      "text/plain": [
       "                         id            connectionTime  \\\n",
       "0  5e23b149f9af8b5fe4b973cf 2020-01-02 05:08:54-08:00   \n",
       "1  5e23b149f9af8b5fe4b973d0 2020-01-02 05:36:50-08:00   \n",
       "2  5e23b149f9af8b5fe4b973d1 2020-01-02 05:56:35-08:00   \n",
       "3  5e23b149f9af8b5fe4b973d2 2020-01-02 05:59:58-08:00   \n",
       "4  5e23b149f9af8b5fe4b973d3 2020-01-02 06:00:01-08:00   \n",
       "\n",
       "             disconnectTime          doneChargingTime  kWhDelivered  \\\n",
       "0 2020-01-02 11:11:15-08:00 2020-01-02 09:31:35-08:00        25.016   \n",
       "1 2020-01-02 14:38:21-08:00 2020-01-02 12:18:05-08:00        33.097   \n",
       "2 2020-01-02 16:39:22-08:00 2020-01-02 08:35:06-08:00         6.521   \n",
       "3 2020-01-02 08:38:39-08:00 2020-01-02 07:18:45-08:00         2.355   \n",
       "4 2020-01-02 14:08:40-08:00 2020-01-02 10:17:30-08:00        13.375   \n",
       "\n",
       "                                sessionID  siteID  spaceID    stationID  \\\n",
       "0  1_1_179_810_2020-01-02 13:08:53.870034       1  AG-3F30  1-1-179-810   \n",
       "1  1_1_193_825_2020-01-02 13:36:49.599853       1  AG-1F01  1-1-193-825   \n",
       "2  1_1_193_829_2020-01-02 13:56:35.214993       1  AG-1F03  1-1-193-829   \n",
       "3  1_1_193_820_2020-01-02 13:59:58.309319       1  AG-1F04  1-1-193-820   \n",
       "4  1_1_193_819_2020-01-02 14:00:00.779967       1  AG-1F06  1-1-193-819   \n",
       "\n",
       "              timezone  ...  kWhRequested  milesRequested  minutesAvailable  \\\n",
       "0  America/Los_Angeles  ...          25.0           100.0             463.0   \n",
       "1  America/Los_Angeles  ...          70.0           250.0             595.0   \n",
       "2  America/Los_Angeles  ...           8.0            20.0              60.0   \n",
       "3  America/Los_Angeles  ...           8.0            20.0              65.0   \n",
       "4  America/Los_Angeles  ...          16.0            40.0             504.0   \n",
       "\n",
       "                 modifiedAt  paymentRequired        requestedDeparture  \\\n",
       "0 2020-01-02 05:09:39-08:00             True 2020-01-02 12:51:54-08:00   \n",
       "1 2020-01-02 05:37:11-08:00             True 2020-01-02 15:31:50-08:00   \n",
       "2 2020-01-02 05:57:17-08:00             True 2020-01-02 06:56:35-08:00   \n",
       "3 2020-01-02 06:00:03-08:00             True 2020-01-02 07:04:58-08:00   \n",
       "4 2020-01-02 06:00:13-08:00             True 2020-01-02 14:24:01-08:00   \n",
       "\n",
       "  connectionTimespan connectionMonth connectionWeekdayName  isWeekend  \n",
       "0    0 days 06:02:21               1              Thursday      False  \n",
       "1    0 days 09:01:31               1              Thursday      False  \n",
       "2    0 days 10:42:47               1              Thursday      False  \n",
       "3    0 days 02:38:41               1              Thursday      False  \n",
       "4    0 days 08:08:39               1              Thursday      False  \n",
       "\n",
       "[5 rows x 22 columns]"
      ]
     },
     "execution_count": 15,
     "metadata": {},
     "output_type": "execute_result"
    }
   ],
   "source": [
    "# Final dataframe (currently)\n",
    "full_charging_df.head()"
   ]
  }
 ],
 "metadata": {
  "kernelspec": {
   "display_name": "aa-team-assignment-5D48J-wi-py3.11",
   "language": "python",
   "name": "python3"
  },
  "language_info": {
   "codemirror_mode": {
    "name": "ipython",
    "version": 3
   },
   "file_extension": ".py",
   "mimetype": "text/x-python",
   "name": "python",
   "nbconvert_exporter": "python",
   "pygments_lexer": "ipython3",
   "version": "3.11.5"
  }
 },
 "nbformat": 4,
 "nbformat_minor": 5
}
