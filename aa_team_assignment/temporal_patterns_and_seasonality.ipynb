{
 "cells": [
  {
   "cell_type": "code",
   "id": "initial_id",
   "metadata": {
    "collapsed": true,
    "ExecuteTime": {
     "end_time": "2024-11-10T10:40:24.732068Z",
     "start_time": "2024-11-10T10:40:24.730045Z"
    }
   },
   "source": [
    "import pandas as pd\n",
    "import matplotlib.pyplot as plt\n",
    "import numpy as np"
   ],
   "outputs": [],
   "execution_count": 79
  },
  {
   "metadata": {},
   "cell_type": "markdown",
   "source": [
    "# Description\n",
    "\n",
    "In this notebook, we will perform the descriptive analysis outlined in Team Assignment 2-a. Before analyzing patterns across different time scales (days, weeks, and seasons), we will first take a brief look at the dataset to understand if, for example, there are multiple seasons represented.\n",
    "\n",
    "#### Tasks\n",
    "- [ ] Analyze seasonal patterns\n",
    "- [ ] Analyze weekly patterns\n",
    "- [ ] Analyze daily patterns"
   ],
   "id": "b5f1e1651ada1813"
  },
  {
   "metadata": {
    "ExecuteTime": {
     "end_time": "2024-11-10T09:22:54.778962Z",
     "start_time": "2024-11-10T09:22:54.745690Z"
    }
   },
   "cell_type": "code",
   "source": [
    "df = pd.read_feather(\"full_charging_data\")\n",
    "df.head()"
   ],
   "id": "9819373df8d72450",
   "outputs": [
    {
     "data": {
      "text/plain": [
       "                         id            connectionTime  \\\n",
       "0  5e23b149f9af8b5fe4b973cf 2020-01-02 13:08:54+00:00   \n",
       "1  5e23b149f9af8b5fe4b973d0 2020-01-02 13:36:50+00:00   \n",
       "2  5e23b149f9af8b5fe4b973d1 2020-01-02 13:56:35+00:00   \n",
       "3  5e23b149f9af8b5fe4b973d2 2020-01-02 13:59:58+00:00   \n",
       "4  5e23b149f9af8b5fe4b973d3 2020-01-02 14:00:01+00:00   \n",
       "\n",
       "             disconnectTime          doneChargingTime  kWhDelivered  \\\n",
       "0 2020-01-02 19:11:15+00:00 2020-01-02 17:31:35+00:00        25.016   \n",
       "1 2020-01-02 22:38:21+00:00 2020-01-02 20:18:05+00:00        33.097   \n",
       "2 2020-01-03 00:39:22+00:00 2020-01-02 16:35:06+00:00         6.521   \n",
       "3 2020-01-02 16:38:39+00:00 2020-01-02 15:18:45+00:00         2.355   \n",
       "4 2020-01-02 22:08:40+00:00 2020-01-02 18:17:30+00:00        13.375   \n",
       "\n",
       "                                sessionID  siteID  spaceID    stationID  \\\n",
       "0  1_1_179_810_2020-01-02 13:08:53.870034       1  AG-3F30  1-1-179-810   \n",
       "1  1_1_193_825_2020-01-02 13:36:49.599853       1  AG-1F01  1-1-193-825   \n",
       "2  1_1_193_829_2020-01-02 13:56:35.214993       1  AG-1F03  1-1-193-829   \n",
       "3  1_1_193_820_2020-01-02 13:59:58.309319       1  AG-1F04  1-1-193-820   \n",
       "4  1_1_193_819_2020-01-02 14:00:00.779967       1  AG-1F06  1-1-193-819   \n",
       "\n",
       "              timezone  ...  kWhRequested  milesRequested  minutesAvailable  \\\n",
       "0  America/Los_Angeles  ...          25.0           100.0             463.0   \n",
       "1  America/Los_Angeles  ...          70.0           250.0             595.0   \n",
       "2  America/Los_Angeles  ...           8.0            20.0              60.0   \n",
       "3  America/Los_Angeles  ...           8.0            20.0              65.0   \n",
       "4  America/Los_Angeles  ...          16.0            40.0             504.0   \n",
       "\n",
       "                      modifiedAt  paymentRequired  \\\n",
       "0  Thu, 02 Jan 2020 13:09:39 GMT             True   \n",
       "1  Thu, 02 Jan 2020 13:37:11 GMT             True   \n",
       "2  Thu, 02 Jan 2020 13:57:17 GMT             True   \n",
       "3  Thu, 02 Jan 2020 14:00:03 GMT             True   \n",
       "4  Thu, 02 Jan 2020 14:00:13 GMT             True   \n",
       "\n",
       "              requestedDeparture connectionTimespan connectionMonth  \\\n",
       "0  Thu, 02 Jan 2020 20:51:54 GMT    0 days 06:02:21               1   \n",
       "1  Thu, 02 Jan 2020 23:31:50 GMT    0 days 09:01:31               1   \n",
       "2  Thu, 02 Jan 2020 14:56:35 GMT    0 days 10:42:47               1   \n",
       "3  Thu, 02 Jan 2020 15:04:58 GMT    0 days 02:38:41               1   \n",
       "4  Thu, 02 Jan 2020 22:24:01 GMT    0 days 08:08:39               1   \n",
       "\n",
       "  connectionWeekdayName  isWeekend  \n",
       "0              Thursday      False  \n",
       "1              Thursday      False  \n",
       "2              Thursday      False  \n",
       "3              Thursday      False  \n",
       "4              Thursday      False  \n",
       "\n",
       "[5 rows x 22 columns]"
      ],
      "text/html": [
       "<div>\n",
       "<style scoped>\n",
       "    .dataframe tbody tr th:only-of-type {\n",
       "        vertical-align: middle;\n",
       "    }\n",
       "\n",
       "    .dataframe tbody tr th {\n",
       "        vertical-align: top;\n",
       "    }\n",
       "\n",
       "    .dataframe thead th {\n",
       "        text-align: right;\n",
       "    }\n",
       "</style>\n",
       "<table border=\"1\" class=\"dataframe\">\n",
       "  <thead>\n",
       "    <tr style=\"text-align: right;\">\n",
       "      <th></th>\n",
       "      <th>id</th>\n",
       "      <th>connectionTime</th>\n",
       "      <th>disconnectTime</th>\n",
       "      <th>doneChargingTime</th>\n",
       "      <th>kWhDelivered</th>\n",
       "      <th>sessionID</th>\n",
       "      <th>siteID</th>\n",
       "      <th>spaceID</th>\n",
       "      <th>stationID</th>\n",
       "      <th>timezone</th>\n",
       "      <th>...</th>\n",
       "      <th>kWhRequested</th>\n",
       "      <th>milesRequested</th>\n",
       "      <th>minutesAvailable</th>\n",
       "      <th>modifiedAt</th>\n",
       "      <th>paymentRequired</th>\n",
       "      <th>requestedDeparture</th>\n",
       "      <th>connectionTimespan</th>\n",
       "      <th>connectionMonth</th>\n",
       "      <th>connectionWeekdayName</th>\n",
       "      <th>isWeekend</th>\n",
       "    </tr>\n",
       "  </thead>\n",
       "  <tbody>\n",
       "    <tr>\n",
       "      <th>0</th>\n",
       "      <td>5e23b149f9af8b5fe4b973cf</td>\n",
       "      <td>2020-01-02 13:08:54+00:00</td>\n",
       "      <td>2020-01-02 19:11:15+00:00</td>\n",
       "      <td>2020-01-02 17:31:35+00:00</td>\n",
       "      <td>25.016</td>\n",
       "      <td>1_1_179_810_2020-01-02 13:08:53.870034</td>\n",
       "      <td>1</td>\n",
       "      <td>AG-3F30</td>\n",
       "      <td>1-1-179-810</td>\n",
       "      <td>America/Los_Angeles</td>\n",
       "      <td>...</td>\n",
       "      <td>25.0</td>\n",
       "      <td>100.0</td>\n",
       "      <td>463.0</td>\n",
       "      <td>Thu, 02 Jan 2020 13:09:39 GMT</td>\n",
       "      <td>True</td>\n",
       "      <td>Thu, 02 Jan 2020 20:51:54 GMT</td>\n",
       "      <td>0 days 06:02:21</td>\n",
       "      <td>1</td>\n",
       "      <td>Thursday</td>\n",
       "      <td>False</td>\n",
       "    </tr>\n",
       "    <tr>\n",
       "      <th>1</th>\n",
       "      <td>5e23b149f9af8b5fe4b973d0</td>\n",
       "      <td>2020-01-02 13:36:50+00:00</td>\n",
       "      <td>2020-01-02 22:38:21+00:00</td>\n",
       "      <td>2020-01-02 20:18:05+00:00</td>\n",
       "      <td>33.097</td>\n",
       "      <td>1_1_193_825_2020-01-02 13:36:49.599853</td>\n",
       "      <td>1</td>\n",
       "      <td>AG-1F01</td>\n",
       "      <td>1-1-193-825</td>\n",
       "      <td>America/Los_Angeles</td>\n",
       "      <td>...</td>\n",
       "      <td>70.0</td>\n",
       "      <td>250.0</td>\n",
       "      <td>595.0</td>\n",
       "      <td>Thu, 02 Jan 2020 13:37:11 GMT</td>\n",
       "      <td>True</td>\n",
       "      <td>Thu, 02 Jan 2020 23:31:50 GMT</td>\n",
       "      <td>0 days 09:01:31</td>\n",
       "      <td>1</td>\n",
       "      <td>Thursday</td>\n",
       "      <td>False</td>\n",
       "    </tr>\n",
       "    <tr>\n",
       "      <th>2</th>\n",
       "      <td>5e23b149f9af8b5fe4b973d1</td>\n",
       "      <td>2020-01-02 13:56:35+00:00</td>\n",
       "      <td>2020-01-03 00:39:22+00:00</td>\n",
       "      <td>2020-01-02 16:35:06+00:00</td>\n",
       "      <td>6.521</td>\n",
       "      <td>1_1_193_829_2020-01-02 13:56:35.214993</td>\n",
       "      <td>1</td>\n",
       "      <td>AG-1F03</td>\n",
       "      <td>1-1-193-829</td>\n",
       "      <td>America/Los_Angeles</td>\n",
       "      <td>...</td>\n",
       "      <td>8.0</td>\n",
       "      <td>20.0</td>\n",
       "      <td>60.0</td>\n",
       "      <td>Thu, 02 Jan 2020 13:57:17 GMT</td>\n",
       "      <td>True</td>\n",
       "      <td>Thu, 02 Jan 2020 14:56:35 GMT</td>\n",
       "      <td>0 days 10:42:47</td>\n",
       "      <td>1</td>\n",
       "      <td>Thursday</td>\n",
       "      <td>False</td>\n",
       "    </tr>\n",
       "    <tr>\n",
       "      <th>3</th>\n",
       "      <td>5e23b149f9af8b5fe4b973d2</td>\n",
       "      <td>2020-01-02 13:59:58+00:00</td>\n",
       "      <td>2020-01-02 16:38:39+00:00</td>\n",
       "      <td>2020-01-02 15:18:45+00:00</td>\n",
       "      <td>2.355</td>\n",
       "      <td>1_1_193_820_2020-01-02 13:59:58.309319</td>\n",
       "      <td>1</td>\n",
       "      <td>AG-1F04</td>\n",
       "      <td>1-1-193-820</td>\n",
       "      <td>America/Los_Angeles</td>\n",
       "      <td>...</td>\n",
       "      <td>8.0</td>\n",
       "      <td>20.0</td>\n",
       "      <td>65.0</td>\n",
       "      <td>Thu, 02 Jan 2020 14:00:03 GMT</td>\n",
       "      <td>True</td>\n",
       "      <td>Thu, 02 Jan 2020 15:04:58 GMT</td>\n",
       "      <td>0 days 02:38:41</td>\n",
       "      <td>1</td>\n",
       "      <td>Thursday</td>\n",
       "      <td>False</td>\n",
       "    </tr>\n",
       "    <tr>\n",
       "      <th>4</th>\n",
       "      <td>5e23b149f9af8b5fe4b973d3</td>\n",
       "      <td>2020-01-02 14:00:01+00:00</td>\n",
       "      <td>2020-01-02 22:08:40+00:00</td>\n",
       "      <td>2020-01-02 18:17:30+00:00</td>\n",
       "      <td>13.375</td>\n",
       "      <td>1_1_193_819_2020-01-02 14:00:00.779967</td>\n",
       "      <td>1</td>\n",
       "      <td>AG-1F06</td>\n",
       "      <td>1-1-193-819</td>\n",
       "      <td>America/Los_Angeles</td>\n",
       "      <td>...</td>\n",
       "      <td>16.0</td>\n",
       "      <td>40.0</td>\n",
       "      <td>504.0</td>\n",
       "      <td>Thu, 02 Jan 2020 14:00:13 GMT</td>\n",
       "      <td>True</td>\n",
       "      <td>Thu, 02 Jan 2020 22:24:01 GMT</td>\n",
       "      <td>0 days 08:08:39</td>\n",
       "      <td>1</td>\n",
       "      <td>Thursday</td>\n",
       "      <td>False</td>\n",
       "    </tr>\n",
       "  </tbody>\n",
       "</table>\n",
       "<p>5 rows × 22 columns</p>\n",
       "</div>"
      ]
     },
     "execution_count": 22,
     "metadata": {},
     "output_type": "execute_result"
    }
   ],
   "execution_count": 22
  },
  {
   "metadata": {
    "ExecuteTime": {
     "end_time": "2024-11-10T09:33:09.757482Z",
     "start_time": "2024-11-10T09:33:09.752080Z"
    }
   },
   "cell_type": "code",
   "source": "df[\"connectionTime\"].describe()",
   "id": "2dfa39bb41f007c8",
   "outputs": [
    {
     "data": {
      "text/plain": [
       "count                                  66450\n",
       "mean     2019-08-06 20:19:01.997832704+00:00\n",
       "min                2018-04-25 11:08:04+00:00\n",
       "25%         2018-11-13 08:28:56.500000+00:00\n",
       "50%         2019-06-14 14:17:45.500000+00:00\n",
       "75%         2020-01-08 00:31:54.500000+00:00\n",
       "max                2021-09-14 05:43:39+00:00\n",
       "Name: connectionTime, dtype: object"
      ]
     },
     "execution_count": 32,
     "metadata": {},
     "output_type": "execute_result"
    }
   ],
   "execution_count": 32
  },
  {
   "metadata": {},
   "cell_type": "markdown",
   "source": "Now we know that the data was collected over four years, from 2018-04-25 to 2021-09-14. This is important for the seasonal pattern analysis, as some seasonal variations might not only be due to the typical changes between winter and summer but could also be influenced by factors such as global warming.",
   "id": "a77567ca738792ff"
  },
  {
   "metadata": {
    "ExecuteTime": {
     "end_time": "2024-11-10T09:34:37.266901Z",
     "start_time": "2024-11-10T09:34:37.260413Z"
    }
   },
   "cell_type": "code",
   "source": [
    "df[\"connectionYear\"] = df[\"connectionTime\"].dt.year\n",
    "df[\"connectionYear\"].value_counts().sort_index()"
   ],
   "id": "b526636432226478",
   "outputs": [
    {
     "data": {
      "text/plain": [
       "connectionYear\n",
       "2018    20067\n",
       "2019    29432\n",
       "2020     8041\n",
       "2021     8910\n",
       "Name: count, dtype: int64"
      ]
     },
     "execution_count": 34,
     "metadata": {},
     "output_type": "execute_result"
    }
   ],
   "execution_count": 34
  },
  {
   "metadata": {},
   "cell_type": "markdown",
   "source": [
    "It appears that most of the data we have is from 2018 and 2019. This could be due to several reasons:\n",
    "\n",
    "1. People may have used these charging hubs more frequently in 2018 and 2019 (possibly due to COVID-19). To verify this, we would need data from across the USA to see if our dataset accurately represents the population (we should still verify this, but in the meantime, we’ll proceed with the analysis).\n",
    "2. We might have changed our data collection methods (e.g., using samples instead of a complete dataset, or other adjustments).\n",
    "\n",
    "This is important to consider when analyzing seasonality, as the results may overlook patterns in the “newer” data.\n",
    "\n",
    "## Seasonal Patterns\n",
    "\n",
    "In this section, we analyze the patterns that occur across different seasons. First, we’ll examine monthly changes to gain a better understanding of the data. Then, we’ll look at how the figures change over traditional seasons (spring, summer, fall, and winter).\n",
    "\n",
    "###  Insights and Observed Patterns\n",
    "- Monthly changes in the data suggest that colder months correlate with different charging behaviors.\n",
    "- 2020 & 2021 are infuenced by Covid-19 and the pandemic\n",
    "- in 2021 there are measurement errors from 2020-08-04 to 2020-11-17\n",
    "- 2018 the measurement started (and maybe the programm itself)\n",
    "- generally warmer months have in general more records of charges\n",
    "\n",
    "\n"
   ],
   "id": "8f1c18f06dabe2ec"
  },
  {
   "metadata": {},
   "cell_type": "markdown",
   "source": "",
   "id": "c40755bd15d982db"
  },
  {
   "metadata": {
    "ExecuteTime": {
     "end_time": "2024-11-10T09:58:36.230865Z",
     "start_time": "2024-11-10T09:58:36.226778Z"
    }
   },
   "cell_type": "code",
   "source": [
    "# Function to plot a histogram of connections by month with centered month labels\n",
    "def plot_hist_all_years(dfs_by_year: dict, title: str) -> None:\n",
    "    num_years = len(dfs_by_year)\n",
    "    fig, axes = plt.subplots(1, num_years, figsize=(15, 5), sharey=True)\n",
    "    fig.suptitle(title)\n",
    "\n",
    "    for i, (year, season_df) in enumerate(dfs_by_year.items()):\n",
    "        # Determine the minimum and maximum month numbers present in the DataFrame\n",
    "        min_month = season_df['connectionMonth'].min()\n",
    "        max_month = season_df['connectionMonth'].max()\n",
    "\n",
    "        # Calculate the number of bins dynamically based on the range of months\n",
    "        month_bins = max_month - min_month + 1\n",
    "\n",
    "        # Plotting histogram in each subplot\n",
    "        counts, bins, patches = axes[i].hist(\n",
    "            season_df['connectionMonth'], bins=month_bins, edgecolor='black',\n",
    "            rwidth=0.8, range=(min_month - 0.5, max_month + 0.5)\n",
    "        )\n",
    "\n",
    "        axes[i].set_title(f\"Year {year}\")\n",
    "        axes[i].set_xlabel('Month')\n",
    "        if i == 0:\n",
    "            axes[i].set_ylabel('Frequency')\n",
    "\n",
    "        # Set x-ticks centered under each bar\n",
    "        axes[i].set_xticks(np.arange(min_month, max_month + 1))\n",
    "        axes[i].set_xticklabels(\n",
    "            ['Jan', 'Feb', 'Mar', 'Apr', 'May', 'Jun', 'Jul', 'Aug', 'Sep', 'Oct', 'Nov', 'Dec'][min_month - 1:max_month]\n",
    "        )\n",
    "\n",
    "        axes[i].grid(axis='y', linestyle='--', alpha=0.7)\n",
    "\n",
    "    plt.tight_layout(rect=[0, 0.03, 1, 0.95])  # Adjust layout to fit title\n",
    "    plt.show()\n",
    "\n",
    "\n",
    "def plot_hist_year(season_df: pd.DataFrame, title: str) -> None:\n",
    "    # Determine the minimum and maximum month numbers present in the DataFrame\n",
    "    min_month = season_df['connectionMonth'].min()\n",
    "    max_month = season_df['connectionMonth'].max()\n",
    "\n",
    "    # Calculate the number of bins dynamically based on the range of months\n",
    "    month_bins = max_month - min_month + 1\n",
    "\n",
    "    # Plotting histogram with the specific range of months\n",
    "    plt.figure(figsize=(10, 6))\n",
    "    counts, bins, patches = plt.hist(\n",
    "        season_df['connectionMonth'], bins=month_bins, edgecolor='black',\n",
    "        rwidth=0.8, range=(min_month - 0.5, max_month + 0.5)\n",
    "    )\n",
    "\n",
    "    plt.title(title)\n",
    "    plt.xlabel('Month')\n",
    "    plt.ylabel('Frequency')\n",
    "\n",
    "    # Set x-ticks centered under each bar\n",
    "    plt.xticks(\n",
    "        ticks=np.arange(min_month, max_month + 1),\n",
    "        labels=[\n",
    "                   'Jan', 'Feb', 'Mar', 'Apr', 'May', 'Jun',\n",
    "                   'Jul', 'Aug', 'Sep', 'Oct', 'Nov', 'Dec'\n",
    "               ][min_month - 1:max_month]\n",
    "    )\n",
    "\n",
    "    plt.grid(axis='y', linestyle='--', alpha=0.7)\n",
    "    plt.tight_layout()\n",
    "    plt.show()"
   ],
   "id": "d9bc136925332fcb",
   "outputs": [],
   "execution_count": 55
  },
  {
   "metadata": {
    "ExecuteTime": {
     "end_time": "2024-11-10T10:09:15.576201Z",
     "start_time": "2024-11-10T10:09:15.287889Z"
    }
   },
   "cell_type": "code",
   "source": [
    "# Plot a histogram of 'connectionMonth' to visualize charging frequency by month\n",
    "# This can reveal seasonal trends, e.g., higher charges in summer months compared to winter months\n",
    "# Note: More charges in summer does not necessarily mean more kilowatt usage\n",
    "\n",
    "years = [df[\"connectionYear\"].min()+ year for year in range(df[\"connectionYear\"].max() - df[\"connectionYear\"].min() + 1)]\n",
    "dfs_by_year = {year: df[df[\"connectionYear\"] == year] for year in years}\n",
    "plot_hist_year(df, 'Distribution of Connections by Month - All Years')\n",
    "plot_hist_all_years(dfs_by_year, \"Distribution of Connections by Month Across Years\")"
   ],
   "id": "130bd7f43843c112",
   "outputs": [
    {
     "data": {
      "text/plain": [
       "<Figure size 1000x600 with 1 Axes>"
      ],
      "image/png": "[encoded data removed]"
     },
     "metadata": {},
     "output_type": "display_data"
    },
    {
     "data": {
      "text/plain": [
       "<Figure size 1500x500 with 4 Axes>"
      ],
      "image/png": "[encoded data removed]"
     },
     "metadata": {},
     "output_type": "display_data"
    }
   ],
   "execution_count": 61
  },
  {
   "metadata": {},
   "cell_type": "markdown",
   "source": [
    "What we can see here is that there are acutal diffrences between the year. While the corona times are a very special case this should be included into the model (a funny pandemic boolean for these times or something similar)\n",
    "\n",
    "https://www.nbclosangeles.com/news/coronavirus/2020-2021-california-coronavirus-pandemic-timeline-key-events/2334100/\n",
    "\n",
    "**IF THE DATA IS FROM GERMANY** we can take a look at the german news articels and see that a lockdowns were inplace March,22 2020 - May, 4 2020,  on which fits to our data. The first lockdown was the stricest and the people may have adjusted so it is also not a suprise that the second and third lockdown in November 2, 2020 and January 6, 2021 didn't have such a big impact on our data.\n",
    "\n",
    "source: https://www.dw.com/en/covid-how-germany-battles-the-pandemic-a-chronology/a-58026877"
   ],
   "id": "51cf5912faa7fbcf"
  },
  {
   "metadata": {
    "ExecuteTime": {
     "end_time": "2024-11-10T10:49:52.403282Z",
     "start_time": "2024-11-10T10:49:52.400024Z"
    }
   },
   "cell_type": "code",
   "source": "dfs_by_year.get(2020)[\"connectionMonth\"].value_counts().sort_index()",
   "id": "483335dca1297ae3",
   "outputs": [
    {
     "data": {
      "text/plain": [
       "connectionMonth\n",
       "1     2291\n",
       "2     2258\n",
       "3     1216\n",
       "4      225\n",
       "5      268\n",
       "6      411\n",
       "7      549\n",
       "8       33\n",
       "11     206\n",
       "12     584\n",
       "Name: count, dtype: int64"
      ]
     },
     "execution_count": 95,
     "metadata": {},
     "output_type": "execute_result"
    }
   ],
   "execution_count": 95
  },
  {
   "metadata": {},
   "cell_type": "markdown",
   "source": "The Big drop in records from September to October (Not a single one) is most likely due to an error as it is very unlikely to just drop to Zero in the real world without any indication. Given this context also the low numbers in August seem a bit strage as if there where failures started acutally in August and just got fixed somewhere in Novemer",
   "id": "f935b9fdaa1a3ee3"
  },
  {
   "metadata": {
    "ExecuteTime": {
     "end_time": "2024-11-12T19:45:25.572405Z",
     "start_time": "2024-11-12T19:45:25.568380Z"
    }
   },
   "cell_type": "code",
   "source": [
    "august_data_2020 = dfs_by_year.get(2020)[dfs_by_year.get(2020)[\"connectionMonth\"] == 8]\n",
    "set(august_data_2020['connectionTime'].dt.day)"
   ],
   "id": "62ef903f50b84c7f",
   "outputs": [
    {
     "data": {
      "text/plain": [
       "{1, 2, 3}"
      ]
     },
     "execution_count": 98,
     "metadata": {},
     "output_type": "execute_result"
    }
   ],
   "execution_count": 98
  },
  {
   "metadata": {
    "ExecuteTime": {
     "end_time": "2024-11-12T19:45:40.708783Z",
     "start_time": "2024-11-12T19:45:40.704369Z"
    }
   },
   "cell_type": "code",
   "source": [
    "november_data_2020 = dfs_by_year.get(2020)[dfs_by_year.get(2020)[\"connectionMonth\"] == 11]\n",
    "set(november_data_2020['connectionTime'].dt.day)"
   ],
   "id": "c1c65eeb3787f8be",
   "outputs": [
    {
     "data": {
      "text/plain": [
       "{18, 19, 20, 21, 22, 23, 24, 25, 26, 27, 28, 29, 30}"
      ]
     },
     "execution_count": 99,
     "metadata": {},
     "output_type": "execute_result"
    }
   ],
   "execution_count": 99
  },
  {
   "metadata": {},
   "cell_type": "markdown",
   "source": [
    "The metrics for August and Novemer support the assumptions that is seems that there was an measurement error from 2020-08-04 - 2020-11-17.\n",
    "\n",
    "Overall from the Yeary Analysis we know that\n",
    "1. We need to look at the years spereratly\n",
    "2. \n",
    "\n",
    "For 2018 It seemt that the technology is new and thus the rising records can be due to its \"hype\". For 2019 everything seems quite \"normal\". For 2020 we have corona and mearsurement errors and for 2021 we still at least have corona."
   ],
   "id": "14f4840dfc99d5ed"
  },
  {
   "metadata": {
    "ExecuteTime": {
     "end_time": "2024-11-12T19:46:39.342743Z",
     "start_time": "2024-11-12T19:46:39.335077Z"
    }
   },
   "cell_type": "code",
   "source": [
    "example_year = dfs_by_year.get(2019)\n",
    "example_year.head()"
   ],
   "id": "a1e0e123d095c66e",
   "outputs": [
    {
     "data": {
      "text/plain": [
       "                            id            connectionTime  \\\n",
       "5573  5d2fbdd3f9af8b4d0dd0d54f 2019-07-02 00:32:46+00:00   \n",
       "5574  5d310f54f9af8b52adda3e20 2019-07-02 12:15:28+00:00   \n",
       "5575  5d310f54f9af8b52adda3e21 2019-07-02 12:42:49+00:00   \n",
       "5576  5d310f54f9af8b52adda3e22 2019-07-02 12:44:46+00:00   \n",
       "5577  5d310f54f9af8b52adda3e23 2019-07-02 12:52:53+00:00   \n",
       "\n",
       "                disconnectTime          doneChargingTime  kWhDelivered  \\\n",
       "5573 2019-07-02 02:34:56+00:00 2019-07-02 01:46:09+00:00         2.463   \n",
       "5574 2019-07-02 16:01:01+00:00 2019-07-02 16:01:38+00:00        12.891   \n",
       "5575 2019-07-02 19:34:19+00:00 2019-07-02 16:21:21+00:00        13.734   \n",
       "5576 2019-07-02 22:33:29+00:00 2019-07-02 16:28:09+00:00        10.619   \n",
       "5577 2019-07-02 19:21:25+00:00 2019-07-02 17:55:13+00:00        19.079   \n",
       "\n",
       "                                   sessionID  siteID  spaceID    stationID  \\\n",
       "5573  1_1_193_827_2019-07-02 00:32:45.820079       1  AG-1F02  1-1-193-827   \n",
       "5574  1_1_194_818_2019-07-02 12:15:28.503952       1  AG-1F14  1-1-194-818   \n",
       "5575  1_1_178_828_2019-07-02 12:42:48.733464       1  AG-1F10  1-1-178-828   \n",
       "5576  1_1_178_823_2019-07-02 12:44:45.734064       1  AG-1F08  1-1-178-823   \n",
       "5577  1_1_179_799_2019-07-02 12:52:52.691064       1  AG-3F25  1-1-179-799   \n",
       "\n",
       "                 timezone  ...  milesRequested  minutesAvailable  \\\n",
       "5573  America/Los_Angeles  ...            20.0              90.0   \n",
       "5574  America/Los_Angeles  ...            70.0             332.0   \n",
       "5575  America/Los_Angeles  ...            50.0             186.0   \n",
       "5576  America/Los_Angeles  ...            40.0             581.0   \n",
       "5577  America/Los_Angeles  ...           260.0             534.0   \n",
       "\n",
       "                         modifiedAt  paymentRequired  \\\n",
       "5573  Tue, 02 Jul 2019 00:32:53 GMT             True   \n",
       "5574  Tue, 02 Jul 2019 12:18:12 GMT             True   \n",
       "5575  Tue, 02 Jul 2019 12:43:19 GMT             True   \n",
       "5576  Tue, 02 Jul 2019 12:45:09 GMT             True   \n",
       "5577  Tue, 02 Jul 2019 12:53:40 GMT             True   \n",
       "\n",
       "                 requestedDeparture connectionTimespan connectionMonth  \\\n",
       "5573  Tue, 02 Jul 2019 02:02:46 GMT    0 days 02:02:10               7   \n",
       "5574  Tue, 02 Jul 2019 17:47:28 GMT    0 days 03:45:33               7   \n",
       "5575  Tue, 02 Jul 2019 15:48:49 GMT    0 days 06:51:30               7   \n",
       "5576  Tue, 02 Jul 2019 22:25:46 GMT    0 days 09:48:43               7   \n",
       "5577  Tue, 02 Jul 2019 21:46:53 GMT    0 days 06:28:32               7   \n",
       "\n",
       "     connectionWeekdayName isWeekend  connectionYear  \n",
       "5573               Tuesday     False            2019  \n",
       "5574               Tuesday     False            2019  \n",
       "5575               Tuesday     False            2019  \n",
       "5576               Tuesday     False            2019  \n",
       "5577               Tuesday     False            2019  \n",
       "\n",
       "[5 rows x 23 columns]"
      ],
      "text/html": [
       "<div>\n",
       "<style scoped>\n",
       "    .dataframe tbody tr th:only-of-type {\n",
       "        vertical-align: middle;\n",
       "    }\n",
       "\n",
       "    .dataframe tbody tr th {\n",
       "        vertical-align: top;\n",
       "    }\n",
       "\n",
       "    .dataframe thead th {\n",
       "        text-align: right;\n",
       "    }\n",
       "</style>\n",
       "<table border=\"1\" class=\"dataframe\">\n",
       "  <thead>\n",
       "    <tr style=\"text-align: right;\">\n",
       "      <th></th>\n",
       "      <th>id</th>\n",
       "      <th>connectionTime</th>\n",
       "      <th>disconnectTime</th>\n",
       "      <th>doneChargingTime</th>\n",
       "      <th>kWhDelivered</th>\n",
       "      <th>sessionID</th>\n",
       "      <th>siteID</th>\n",
       "      <th>spaceID</th>\n",
       "      <th>stationID</th>\n",
       "      <th>timezone</th>\n",
       "      <th>...</th>\n",
       "      <th>milesRequested</th>\n",
       "      <th>minutesAvailable</th>\n",
       "      <th>modifiedAt</th>\n",
       "      <th>paymentRequired</th>\n",
       "      <th>requestedDeparture</th>\n",
       "      <th>connectionTimespan</th>\n",
       "      <th>connectionMonth</th>\n",
       "      <th>connectionWeekdayName</th>\n",
       "      <th>isWeekend</th>\n",
       "      <th>connectionYear</th>\n",
       "    </tr>\n",
       "  </thead>\n",
       "  <tbody>\n",
       "    <tr>\n",
       "      <th>5573</th>\n",
       "      <td>5d2fbdd3f9af8b4d0dd0d54f</td>\n",
       "      <td>2019-07-02 00:32:46+00:00</td>\n",
       "      <td>2019-07-02 02:34:56+00:00</td>\n",
       "      <td>2019-07-02 01:46:09+00:00</td>\n",
       "      <td>2.463</td>\n",
       "      <td>1_1_193_827_2019-07-02 00:32:45.820079</td>\n",
       "      <td>1</td>\n",
       "      <td>AG-1F02</td>\n",
       "      <td>1-1-193-827</td>\n",
       "      <td>America/Los_Angeles</td>\n",
       "      <td>...</td>\n",
       "      <td>20.0</td>\n",
       "      <td>90.0</td>\n",
       "      <td>Tue, 02 Jul 2019 00:32:53 GMT</td>\n",
       "      <td>True</td>\n",
       "      <td>Tue, 02 Jul 2019 02:02:46 GMT</td>\n",
       "      <td>0 days 02:02:10</td>\n",
       "      <td>7</td>\n",
       "      <td>Tuesday</td>\n",
       "      <td>False</td>\n",
       "      <td>2019</td>\n",
       "    </tr>\n",
       "    <tr>\n",
       "      <th>5574</th>\n",
       "      <td>5d310f54f9af8b52adda3e20</td>\n",
       "      <td>2019-07-02 12:15:28+00:00</td>\n",
       "      <td>2019-07-02 16:01:01+00:00</td>\n",
       "      <td>2019-07-02 16:01:38+00:00</td>\n",
       "      <td>12.891</td>\n",
       "      <td>1_1_194_818_2019-07-02 12:15:28.503952</td>\n",
       "      <td>1</td>\n",
       "      <td>AG-1F14</td>\n",
       "      <td>1-1-194-818</td>\n",
       "      <td>America/Los_Angeles</td>\n",
       "      <td>...</td>\n",
       "      <td>70.0</td>\n",
       "      <td>332.0</td>\n",
       "      <td>Tue, 02 Jul 2019 12:18:12 GMT</td>\n",
       "      <td>True</td>\n",
       "      <td>Tue, 02 Jul 2019 17:47:28 GMT</td>\n",
       "      <td>0 days 03:45:33</td>\n",
       "      <td>7</td>\n",
       "      <td>Tuesday</td>\n",
       "      <td>False</td>\n",
       "      <td>2019</td>\n",
       "    </tr>\n",
       "    <tr>\n",
       "      <th>5575</th>\n",
       "      <td>5d310f54f9af8b52adda3e21</td>\n",
       "      <td>2019-07-02 12:42:49+00:00</td>\n",
       "      <td>2019-07-02 19:34:19+00:00</td>\n",
       "      <td>2019-07-02 16:21:21+00:00</td>\n",
       "      <td>13.734</td>\n",
       "      <td>1_1_178_828_2019-07-02 12:42:48.733464</td>\n",
       "      <td>1</td>\n",
       "      <td>AG-1F10</td>\n",
       "      <td>1-1-178-828</td>\n",
       "      <td>America/Los_Angeles</td>\n",
       "      <td>...</td>\n",
       "      <td>50.0</td>\n",
       "      <td>186.0</td>\n",
       "      <td>Tue, 02 Jul 2019 12:43:19 GMT</td>\n",
       "      <td>True</td>\n",
       "      <td>Tue, 02 Jul 2019 15:48:49 GMT</td>\n",
       "      <td>0 days 06:51:30</td>\n",
       "      <td>7</td>\n",
       "      <td>Tuesday</td>\n",
       "      <td>False</td>\n",
       "      <td>2019</td>\n",
       "    </tr>\n",
       "    <tr>\n",
       "      <th>5576</th>\n",
       "      <td>5d310f54f9af8b52adda3e22</td>\n",
       "      <td>2019-07-02 12:44:46+00:00</td>\n",
       "      <td>2019-07-02 22:33:29+00:00</td>\n",
       "      <td>2019-07-02 16:28:09+00:00</td>\n",
       "      <td>10.619</td>\n",
       "      <td>1_1_178_823_2019-07-02 12:44:45.734064</td>\n",
       "      <td>1</td>\n",
       "      <td>AG-1F08</td>\n",
       "      <td>1-1-178-823</td>\n",
       "      <td>America/Los_Angeles</td>\n",
       "      <td>...</td>\n",
       "      <td>40.0</td>\n",
       "      <td>581.0</td>\n",
       "      <td>Tue, 02 Jul 2019 12:45:09 GMT</td>\n",
       "      <td>True</td>\n",
       "      <td>Tue, 02 Jul 2019 22:25:46 GMT</td>\n",
       "      <td>0 days 09:48:43</td>\n",
       "      <td>7</td>\n",
       "      <td>Tuesday</td>\n",
       "      <td>False</td>\n",
       "      <td>2019</td>\n",
       "    </tr>\n",
       "    <tr>\n",
       "      <th>5577</th>\n",
       "      <td>5d310f54f9af8b52adda3e23</td>\n",
       "      <td>2019-07-02 12:52:53+00:00</td>\n",
       "      <td>2019-07-02 19:21:25+00:00</td>\n",
       "      <td>2019-07-02 17:55:13+00:00</td>\n",
       "      <td>19.079</td>\n",
       "      <td>1_1_179_799_2019-07-02 12:52:52.691064</td>\n",
       "      <td>1</td>\n",
       "      <td>AG-3F25</td>\n",
       "      <td>1-1-179-799</td>\n",
       "      <td>America/Los_Angeles</td>\n",
       "      <td>...</td>\n",
       "      <td>260.0</td>\n",
       "      <td>534.0</td>\n",
       "      <td>Tue, 02 Jul 2019 12:53:40 GMT</td>\n",
       "      <td>True</td>\n",
       "      <td>Tue, 02 Jul 2019 21:46:53 GMT</td>\n",
       "      <td>0 days 06:28:32</td>\n",
       "      <td>7</td>\n",
       "      <td>Tuesday</td>\n",
       "      <td>False</td>\n",
       "      <td>2019</td>\n",
       "    </tr>\n",
       "  </tbody>\n",
       "</table>\n",
       "<p>5 rows × 23 columns</p>\n",
       "</div>"
      ]
     },
     "execution_count": 100,
     "metadata": {},
     "output_type": "execute_result"
    }
   ],
   "execution_count": 100
  },
  {
   "metadata": {},
   "cell_type": "markdown",
   "source": [
    "### Seasonal Patterns\n",
    "\n",
    "When talking about seasonal patterns it is important to also understand why one wants to talk about them. The calendaric seasons are well suited for comparing different seasons if it is important that they have all equivilant timespans but when one wants to talk about seasons because one wants to know what people behave when its warm (Summerlike) or cold (winterlike) the meteorological seasons may can be used to create more informative insights. As it is not specified which one should be done in this tasks (and also because this may also is important for the predection model task we first will use the calendar seasons to describe the data and afterwards the meteorologial once in Burbank. For this the following data is used:\n",
    "\n",
    "https://www.timeanddate.com/calendar/seasons.html?year=2000&n=796 / burbank_seasons.feather"
   ],
   "id": "db29a5ba8a79ca8b"
  },
  {
   "metadata": {
    "ExecuteTime": {
     "end_time": "2024-11-12T19:59:31.242642Z",
     "start_time": "2024-11-12T19:59:31.239732Z"
    }
   },
   "cell_type": "code",
   "source": "",
   "id": "baffc2f0494bb0c2",
   "outputs": [],
   "execution_count": null
  },
  {
   "metadata": {},
   "cell_type": "code",
   "outputs": [],
   "execution_count": null,
   "source": [
    "1. the monthly\n",
    "2. afterwards we look if we can aggretage after the \"real\" metherologic seasons as they are more expressive then it comes to finding diffrences (maybe we also use the calendar and comrapre them) "
   ],
   "id": "7946c7073e5762ac"
  }
 ],
 "metadata": {
  "kernelspec": {
   "display_name": "aa-team-assignment-py3.11",
   "language": "python",
   "name": "aa-team-assignment-py3.11"
  },
  "language_info": {
   "codemirror_mode": {
    "name": "ipython",
    "version": 2
   },
   "file_extension": ".py",
   "mimetype": "text/x-python",
   "name": "python",
   "nbconvert_exporter": "python",
   "pygments_lexer": "ipython2",
   "version": "2.7.6"
  }
 },
 "nbformat": 4,
 "nbformat_minor": 5
}
